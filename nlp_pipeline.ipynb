{
  "nbformat": 4,
  "nbformat_minor": 0,
  "metadata": {
    "colab": {
      "provenance": []
    },
    "kernelspec": {
      "name": "python3",
      "display_name": "Python 3"
    },
    "language_info": {
      "name": "python"
    }
  },
  "cells": [
    {
      "cell_type": "code",
      "execution_count": null,
      "metadata": {
        "id": "HG8i98FMBu9x"
      },
      "outputs": [],
      "source": [
        "import pandas as pd\n",
        "import matplotlib.pyplot as plt\n",
        "\n",
        "import spacy"
      ]
    },
    {
      "cell_type": "code",
      "source": [
        "nlp = spacy.blank(\"en\")\n",
        "\n",
        "corp = nlp(\"To address this dilemma, lots of research endeavor have investigated init to facilitate the discovery of novel PPIs. Among these methods, PPI prediction techniques that merely rely on proteinsequence data are more widespread than other methods which require extensive biological domain knowledge\")"
      ],
      "metadata": {
        "id": "eV7lB_MfClzr"
      },
      "execution_count": null,
      "outputs": []
    },
    {
      "cell_type": "code",
      "source": [
        "for token in corp:\n",
        "  print(token)"
      ],
      "metadata": {
        "colab": {
          "base_uri": "https://localhost:8080/"
        },
        "id": "zDh7sO6IDXth",
        "outputId": "1ed5ca4d-2c39-4cb9-959e-2debf9e3ea12"
      },
      "execution_count": null,
      "outputs": [
        {
          "output_type": "stream",
          "name": "stdout",
          "text": [
            "To\n",
            "address\n",
            "this\n",
            "dilemma\n",
            ",\n",
            "lots\n",
            "of\n",
            "research\n",
            "endeavor\n",
            "have\n",
            "investigated\n",
            "init\n",
            "to\n",
            "facilitate\n",
            "the\n",
            "discovery\n",
            "of\n",
            "novel\n",
            "PPIs\n",
            ".\n",
            "Among\n",
            "these\n",
            "methods\n",
            ",\n",
            "PPI\n",
            "prediction\n",
            "techniques\n",
            "that\n",
            "merely\n",
            "rely\n",
            "on\n",
            "proteinsequence\n",
            "data\n",
            "are\n",
            "more\n",
            "widespread\n",
            "than\n",
            "other\n",
            "methods\n",
            "which\n",
            "require\n",
            "extensive\n",
            "biological\n",
            "domain\n",
            "knowledge\n"
          ]
        }
      ]
    },
    {
      "cell_type": "code",
      "source": [
        "nlp1 = spacy.load(\"en_core_web_sm\")\n",
        "nlp1.pipe_names"
      ],
      "metadata": {
        "colab": {
          "base_uri": "https://localhost:8080/"
        },
        "id": "gDVS6av7ETL6",
        "outputId": "791e08fa-37a6-426f-ca2a-afb7fdfdec4a"
      },
      "execution_count": null,
      "outputs": [
        {
          "output_type": "execute_result",
          "data": {
            "text/plain": [
              "['tok2vec', 'tagger', 'parser', 'attribute_ruler', 'lemmatizer', 'ner']"
            ]
          },
          "metadata": {},
          "execution_count": 6
        }
      ]
    },
    {
      "cell_type": "code",
      "source": [
        "corp1 = nlp1(\"To address this dilemma, lots of research endeavor have investigated init to facilitate the discovery of novel PPIs. Among these methods, PPI prediction techniques that merely rely on proteinsequence data are more widespread than other methods which require extensive biological domain knowledge\")\n",
        "for token in corp1:\n",
        "  print(token, \" | \", token.pos_, \" | \", token.lemma_ )"
      ],
      "metadata": {
        "colab": {
          "base_uri": "https://localhost:8080/"
        },
        "id": "Mc-ggV3CEjQr",
        "outputId": "c03ea637-bc64-4363-88ae-6d744e569bed"
      },
      "execution_count": null,
      "outputs": [
        {
          "output_type": "stream",
          "name": "stdout",
          "text": [
            "To  |  PART  |  to\n",
            "address  |  VERB  |  address\n",
            "this  |  DET  |  this\n",
            "dilemma  |  NOUN  |  dilemma\n",
            ",  |  PUNCT  |  ,\n",
            "lots  |  NOUN  |  lot\n",
            "of  |  ADP  |  of\n",
            "research  |  NOUN  |  research\n",
            "endeavor  |  NOUN  |  endeavor\n",
            "have  |  AUX  |  have\n",
            "investigated  |  VERB  |  investigate\n",
            "init  |  NOUN  |  init\n",
            "to  |  PART  |  to\n",
            "facilitate  |  VERB  |  facilitate\n",
            "the  |  DET  |  the\n",
            "discovery  |  NOUN  |  discovery\n",
            "of  |  ADP  |  of\n",
            "novel  |  ADJ  |  novel\n",
            "PPIs  |  NOUN  |  ppi\n",
            ".  |  PUNCT  |  .\n",
            "Among  |  ADP  |  among\n",
            "these  |  DET  |  these\n",
            "methods  |  NOUN  |  method\n",
            ",  |  PUNCT  |  ,\n",
            "PPI  |  PROPN  |  PPI\n",
            "prediction  |  NOUN  |  prediction\n",
            "techniques  |  NOUN  |  technique\n",
            "that  |  PRON  |  that\n",
            "merely  |  ADV  |  merely\n",
            "rely  |  VERB  |  rely\n",
            "on  |  ADP  |  on\n",
            "proteinsequence  |  NOUN  |  proteinsequence\n",
            "data  |  NOUN  |  datum\n",
            "are  |  AUX  |  be\n",
            "more  |  ADV  |  more\n",
            "widespread  |  ADJ  |  widespread\n",
            "than  |  ADP  |  than\n",
            "other  |  ADJ  |  other\n",
            "methods  |  NOUN  |  method\n",
            "which  |  PRON  |  which\n",
            "require  |  VERB  |  require\n",
            "extensive  |  ADJ  |  extensive\n",
            "biological  |  ADJ  |  biological\n",
            "domain  |  NOUN  |  domain\n",
            "knowledge  |  NOUN  |  knowledge\n"
          ]
        }
      ]
    },
    {
      "cell_type": "code",
      "source": [
        "nlp.add_pipe(\"lemmatizer\" , source=nlp1)\n",
        "nlp.pipe_names"
      ],
      "metadata": {
        "colab": {
          "base_uri": "https://localhost:8080/"
        },
        "id": "hVHL4tClEqzA",
        "outputId": "30930557-197a-4187-d75e-d69457774924"
      },
      "execution_count": null,
      "outputs": [
        {
          "output_type": "execute_result",
          "data": {
            "text/plain": [
              "['lemmatizer']"
            ]
          },
          "metadata": {},
          "execution_count": 14
        }
      ]
    },
    {
      "cell_type": "code",
      "source": [
        "corp = nlp(\"To address this dilemma, lots of research endeavor have investigated init to facilitate the discovery of novel PPIs. Among these methods, PPI prediction techniques that merely rely on proteinsequence data are more widespread than other methods which require extensive biological domain knowledge\")\n",
        "for token in corp:\n",
        "    print(token, \" | \", token.pos_, \" | \", token.lemma_ )"
      ],
      "metadata": {
        "colab": {
          "base_uri": "https://localhost:8080/"
        },
        "id": "rud4H-oMGwpw",
        "outputId": "0b6889d6-26af-456b-fbb3-323d255734f7"
      },
      "execution_count": null,
      "outputs": [
        {
          "output_type": "stream",
          "name": "stdout",
          "text": [
            "To  |    |  to\n",
            "address  |    |  address\n",
            "this  |    |  this\n",
            "dilemma  |    |  dilemma\n",
            ",  |    |  ,\n",
            "lots  |    |  lots\n",
            "of  |    |  of\n",
            "research  |    |  research\n",
            "endeavor  |    |  endeavor\n",
            "have  |    |  have\n",
            "investigated  |    |  investigated\n",
            "init  |    |  init\n",
            "to  |    |  to\n",
            "facilitate  |    |  facilitate\n",
            "the  |    |  the\n",
            "discovery  |    |  discovery\n",
            "of  |    |  of\n",
            "novel  |    |  novel\n",
            "PPIs  |    |  ppis\n",
            ".  |    |  .\n",
            "Among  |    |  among\n",
            "these  |    |  these\n",
            "methods  |    |  methods\n",
            ",  |    |  ,\n",
            "PPI  |    |  ppi\n",
            "prediction  |    |  prediction\n",
            "techniques  |    |  techniques\n",
            "that  |    |  that\n",
            "merely  |    |  merely\n",
            "rely  |    |  rely\n",
            "on  |    |  on\n",
            "proteinsequence  |    |  proteinsequence\n",
            "data  |    |  data\n",
            "are  |    |  are\n",
            "more  |    |  more\n",
            "widespread  |    |  widespread\n",
            "than  |    |  than\n",
            "other  |    |  other\n",
            "methods  |    |  methods\n",
            "which  |    |  which\n",
            "require  |    |  require\n",
            "extensive  |    |  extensive\n",
            "biological  |    |  biological\n",
            "domain  |    |  domain\n",
            "knowledge  |    |  knowledge\n"
          ]
        },
        {
          "output_type": "stream",
          "name": "stderr",
          "text": [
            "/usr/local/lib/python3.7/dist-packages/spacy/pipeline/lemmatizer.py:211: UserWarning: [W108] The rule-based lemmatizer did not find POS annotation for one or more tokens. Check that your pipeline includes components that assign token.pos, typically 'tagger'+'attribute_ruler' or 'morphologizer'.\n",
            "  warnings.warn(Warnings.W108)\n"
          ]
        }
      ]
    },
    {
      "cell_type": "code",
      "source": [
        "import nltk\n",
        "from nltk.stem import PorterStemmer"
      ],
      "metadata": {
        "id": "SkYzQCLOIv1y"
      },
      "execution_count": null,
      "outputs": []
    },
    {
      "cell_type": "code",
      "source": [
        "stemmer = PorterStemmer()\n",
        "\n",
        "corp2=[\"In this paper\",\" we propose a multi-modal\", \"deep representation\", \"learning\" ,\"structure by\" ,\"incorporating\", \"protein physicochemical features with the graph topological features from the PPI networks\"]"
      ],
      "metadata": {
        "id": "35iM42hII08w"
      },
      "execution_count": null,
      "outputs": []
    },
    {
      "cell_type": "code",
      "source": [
        "for word in corp2:\n",
        "  print(word, \" | \", stemmer.stem(word))"
      ],
      "metadata": {
        "colab": {
          "base_uri": "https://localhost:8080/"
        },
        "id": "SgN8aN-eJkF2",
        "outputId": "d1b7afc6-8674-43aa-cc7c-5f4c7b32a677"
      },
      "execution_count": null,
      "outputs": [
        {
          "output_type": "stream",
          "name": "stdout",
          "text": [
            "In this paper  |  in this pap\n",
            " we propose a multi-modal  |   we propose a multi-mod\n",
            "deep representation  |  deep represent\n",
            "learning  |  learn\n",
            "structure by  |  structure bi\n",
            "incorporating  |  incorpor\n",
            "protein physicochemical features with the graph topological features from the PPI networks  |  protein physicochemical features with the graph topological features from the ppi network\n"
          ]
        }
      ]
    },
    {
      "cell_type": "code",
      "source": [
        "#customizing\n",
        "\n",
        "customizer = nlp1.get_pipe('attribute_ruler')\n",
        "customizer.add([[{\"TEXT\":\"deep\"}],[{\"TEXT\":\"representation\"}]],{\"LEMMA\":\"DR\"})\n",
        "corp3 = nlp1(\"In this paper, we propose a multi-modal deep representation learning structure by incorporating protein physicochemical features with the graph topological features from the PPI networks\")\n",
        "\n",
        "for token in corp3:\n",
        "  print(token, \" | \", token.lemma_)"
      ],
      "metadata": {
        "colab": {
          "base_uri": "https://localhost:8080/"
        },
        "id": "EGjVr-OLRWDM",
        "outputId": "ee70f737-35a6-4046-93b4-e50909151cb8"
      },
      "execution_count": null,
      "outputs": [
        {
          "output_type": "stream",
          "name": "stdout",
          "text": [
            "In  |  in\n",
            "this  |  DR\n",
            "paper  |  paper\n",
            ",  |  ,\n",
            "we  |  DR\n",
            "propose  |  propose\n",
            "a  |  a\n",
            "multi  |  multi\n",
            "-  |  -\n",
            "modal  |  modal\n",
            "deep  |  DR\n",
            "representation  |  DR\n",
            "learning  |  learning\n",
            "structure  |  structure\n",
            "by  |  by\n",
            "incorporating  |  incorporate\n",
            "protein  |  protein\n",
            "physicochemical  |  physicochemical\n",
            "features  |  feature\n",
            "with  |  with\n",
            "the  |  the\n",
            "graph  |  graph\n",
            "topological  |  topological\n",
            "features  |  feature\n",
            "from  |  from\n",
            "the  |  the\n",
            "PPI  |  PPI\n",
            "networks  |  network\n"
          ]
        }
      ]
    }
  ]
}
